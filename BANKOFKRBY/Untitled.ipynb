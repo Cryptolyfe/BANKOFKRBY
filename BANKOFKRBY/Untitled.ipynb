{
 "cells": [
  {
   "cell_type": "markdown",
   "id": "78f8c69b",
   "metadata": {},
   "source": [
    "# BANK OF KRBY\n",
    "\n",
    "\n",
    "### Set up a testnet or a test blockchain.\n",
    "\n",
    "![krbylogo](images/setup_testnet_blockchain.png)\n",
    "\n",
    "### Confirm the public addressess match.\n",
    "\n",
    "![krbylogo](images/matcing_public_ddresses.png)\n",
    "\n",
    "### Unlock your account using your mnemonic phrase.\n",
    "\n",
    "![krbylogo](images/unlocking_mnemonic_phrase.png)\n",
    "\n",
    "### Input the address of the recieving account. Check the address to confirm it is correct.\n",
    "\n",
    "![krbylogo](images/input_recipients_address.png)\n",
    "\n",
    "### Double check the addresses, amount, ect. and click 'confirm' to send the transaction.\n",
    "\n",
    "![krbylogo](images/confirming_transaction.png)\n",
    "\n",
    "### A push notification will come up when the network has proccessed the transaction.\n",
    "\n",
    "![krbylogo](images/transaction_sent_confirmation.png)\n",
    "\n",
    "### Check the transaction record to confirm the transaction successfully completed.\n",
    "\n",
    "![krbylogo](images/transaction_history.png)\n",
    "\n",
    "\n",
    "\n",
    "\n",
    "\n",
    "\n",
    "\n"
   ]
  },
  {
   "cell_type": "code",
   "execution_count": null,
   "id": "fcb52039",
   "metadata": {},
   "outputs": [],
   "source": []
  },
  {
   "cell_type": "code",
   "execution_count": null,
   "id": "09e37341",
   "metadata": {},
   "outputs": [],
   "source": []
  }
 ],
 "metadata": {
  "kernelspec": {
   "display_name": "Python 3",
   "language": "python",
   "name": "python3"
  },
  "language_info": {
   "codemirror_mode": {
    "name": "ipython",
    "version": 3
   },
   "file_extension": ".py",
   "mimetype": "text/x-python",
   "name": "python",
   "nbconvert_exporter": "python",
   "pygments_lexer": "ipython3",
   "version": "3.8.8"
  }
 },
 "nbformat": 4,
 "nbformat_minor": 5
}
